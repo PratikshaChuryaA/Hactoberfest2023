{
 "cells": [
  {
   "cell_type": "code",
   "execution_count": 1,
   "id": "2c785821",
   "metadata": {},
   "outputs": [
    {
     "name": "stdout",
     "output_type": "stream",
     "text": [
      "14\n",
      "8\n",
      "33\n",
      "1331\n",
      "3.6666666666666665\n",
      "3\n",
      "2\n"
     ]
    }
   ],
   "source": [
    "s,y=11,3\n",
    "print(s+y)\n",
    "print(s-y)\n",
    "print(s*y)\n",
    "print(s**y)\n",
    "print(s/y)\n",
    "print(s//y)\n",
    "print(s%y)\n"
   ]
  },
  {
   "cell_type": "code",
   "execution_count": 3,
   "id": "8ca1f6c2",
   "metadata": {},
   "outputs": [
    {
     "name": "stdout",
     "output_type": "stream",
     "text": [
      "0\n",
      "10\n"
     ]
    }
   ],
   "source": [
    "x,y=10,4\n",
    "print(x & y)\n",
    "print(x or y)"
   ]
  },
  {
   "cell_type": "code",
   "execution_count": 8,
   "id": "250c28db",
   "metadata": {},
   "outputs": [
    {
     "name": "stdout",
     "output_type": "stream",
     "text": [
      "True\n",
      "True\n"
     ]
    }
   ],
   "source": [
    "a1 = [1,2,3]\n",
    "a2 = a1\n",
    "\n",
    "print(a1 is a2)\n",
    "print(1 in a2)"
   ]
  },
  {
   "cell_type": "code",
   "execution_count": 6,
   "id": "4b04807c",
   "metadata": {},
   "outputs": [
    {
     "name": "stdout",
     "output_type": "stream",
     "text": [
      "a is lesser then b\n"
     ]
    }
   ],
   "source": [
    "a = 32\n",
    "b=200\n",
    "if(a<b):\n",
    "    print(\"a is lesser then b\")\n",
    "elif(a==b):\n",
    "    print(\"Equal\")\n",
    "else:\n",
    "    print(\"a is greater\")"
   ]
  },
  {
   "cell_type": "code",
   "execution_count": 9,
   "id": "f28320d5",
   "metadata": {},
   "outputs": [
    {
     "name": "stdout",
     "output_type": "stream",
     "text": [
      "Enter number of electric unit200\n",
      "amout to pay: 500\n"
     ]
    }
   ],
   "source": [
    "amt = 0\n",
    "nu = int(input(\"Enter number of electric unit\"))\n",
    "if nu<=100:\n",
    "    amt=0\n",
    "elif nu>100 and nu<=200:\n",
    "    amt=(nu-100)*5\n",
    "elif nu>200:\n",
    "    amt=500+(nu-200)*10\n",
    "print(\"amout to pay:\",amt)\n"
   ]
  },
  {
   "cell_type": "code",
   "execution_count": 2,
   "id": "2b9192f1",
   "metadata": {},
   "outputs": [
    {
     "ename": "KeyboardInterrupt",
     "evalue": "",
     "output_type": "error",
     "traceback": [
      "\u001b[1;31m---------------------------------------------------------------------------\u001b[0m",
      "\u001b[1;31mKeyboardInterrupt\u001b[0m                         Traceback (most recent call last)",
      "Cell \u001b[1;32mIn[2], line 1\u001b[0m\n\u001b[1;32m----> 1\u001b[0m num1 \u001b[39m=\u001b[39m \u001b[39mint\u001b[39;49m(\u001b[39minput\u001b[39m(\u001b[39m\"\u001b[39m\u001b[39mEnter first number\u001b[39m\u001b[39m\"\u001b[39m))\n\u001b[0;32m      2\u001b[0m num2 \u001b[39m=\u001b[39m \u001b[39mint\u001b[39m(\u001b[39minput\u001b[39m(\u001b[39m\"\u001b[39m\u001b[39mEnter second number\u001b[39m\u001b[39m\"\u001b[39m))\n\u001b[0;32m      3\u001b[0m num3 \u001b[39m=\u001b[39m \u001b[39mint\u001b[39m(\u001b[39minput\u001b[39m(\u001b[39m\"\u001b[39m\u001b[39mEnter third number\u001b[39m\u001b[39m\"\u001b[39m))\n",
      "Cell \u001b[1;32mIn[2], line 1\u001b[0m\n\u001b[1;32m----> 1\u001b[0m num1 \u001b[39m=\u001b[39m \u001b[39mint\u001b[39;49m(\u001b[39minput\u001b[39m(\u001b[39m\"\u001b[39m\u001b[39mEnter first number\u001b[39m\u001b[39m\"\u001b[39m))\n\u001b[0;32m      2\u001b[0m num2 \u001b[39m=\u001b[39m \u001b[39mint\u001b[39m(\u001b[39minput\u001b[39m(\u001b[39m\"\u001b[39m\u001b[39mEnter second number\u001b[39m\u001b[39m\"\u001b[39m))\n\u001b[0;32m      3\u001b[0m num3 \u001b[39m=\u001b[39m \u001b[39mint\u001b[39m(\u001b[39minput\u001b[39m(\u001b[39m\"\u001b[39m\u001b[39mEnter third number\u001b[39m\u001b[39m\"\u001b[39m))\n",
      "File \u001b[1;32m_pydevd_bundle/pydevd_cython.pyx:1457\u001b[0m, in \u001b[0;36m_pydevd_bundle.pydevd_cython.SafeCallWrapper.__call__\u001b[1;34m()\u001b[0m\n",
      "File \u001b[1;32m_pydevd_bundle/pydevd_cython.pyx:701\u001b[0m, in \u001b[0;36m_pydevd_bundle.pydevd_cython.PyDBFrame.trace_dispatch\u001b[1;34m()\u001b[0m\n",
      "File \u001b[1;32m_pydevd_bundle/pydevd_cython.pyx:1152\u001b[0m, in \u001b[0;36m_pydevd_bundle.pydevd_cython.PyDBFrame.trace_dispatch\u001b[1;34m()\u001b[0m\n",
      "File \u001b[1;32m_pydevd_bundle/pydevd_cython.pyx:1135\u001b[0m, in \u001b[0;36m_pydevd_bundle.pydevd_cython.PyDBFrame.trace_dispatch\u001b[1;34m()\u001b[0m\n",
      "File \u001b[1;32m_pydevd_bundle/pydevd_cython.pyx:312\u001b[0m, in \u001b[0;36m_pydevd_bundle.pydevd_cython.PyDBFrame.do_wait_suspend\u001b[1;34m()\u001b[0m\n",
      "File \u001b[1;32mc:\\Users\\Dell\\AppData\\Local\\Programs\\Python\\Python310\\lib\\site-packages\\debugpy\\_vendored\\pydevd\\pydevd.py:2070\u001b[0m, in \u001b[0;36mPyDB.do_wait_suspend\u001b[1;34m(self, thread, frame, event, arg, exception_type)\u001b[0m\n\u001b[0;32m   2067\u001b[0m             from_this_thread\u001b[39m.\u001b[39mappend(frame_custom_thread_id)\n\u001b[0;32m   2069\u001b[0m     \u001b[39mwith\u001b[39;00m \u001b[39mself\u001b[39m\u001b[39m.\u001b[39m_threads_suspended_single_notification\u001b[39m.\u001b[39mnotify_thread_suspended(thread_id, thread, stop_reason):\n\u001b[1;32m-> 2070\u001b[0m         keep_suspended \u001b[39m=\u001b[39m \u001b[39mself\u001b[39;49m\u001b[39m.\u001b[39;49m_do_wait_suspend(thread, frame, event, arg, suspend_type, from_this_thread, frames_tracker)\n\u001b[0;32m   2072\u001b[0m frames_list \u001b[39m=\u001b[39m \u001b[39mNone\u001b[39;00m\n\u001b[0;32m   2074\u001b[0m \u001b[39mif\u001b[39;00m keep_suspended:\n\u001b[0;32m   2075\u001b[0m     \u001b[39m# This means that we should pause again after a set next statement.\u001b[39;00m\n",
      "File \u001b[1;32mc:\\Users\\Dell\\AppData\\Local\\Programs\\Python\\Python310\\lib\\site-packages\\debugpy\\_vendored\\pydevd\\pydevd.py:2106\u001b[0m, in \u001b[0;36mPyDB._do_wait_suspend\u001b[1;34m(self, thread, frame, event, arg, suspend_type, from_this_thread, frames_tracker)\u001b[0m\n\u001b[0;32m   2103\u001b[0m         \u001b[39mself\u001b[39m\u001b[39m.\u001b[39m_call_input_hook()\n\u001b[0;32m   2105\u001b[0m     \u001b[39mself\u001b[39m\u001b[39m.\u001b[39mprocess_internal_commands()\n\u001b[1;32m-> 2106\u001b[0m     time\u001b[39m.\u001b[39;49msleep(\u001b[39m0.01\u001b[39;49m)\n\u001b[0;32m   2108\u001b[0m \u001b[39mself\u001b[39m\u001b[39m.\u001b[39mcancel_async_evaluation(get_current_thread_id(thread), \u001b[39mstr\u001b[39m(\u001b[39mid\u001b[39m(frame)))\n\u001b[0;32m   2110\u001b[0m \u001b[39m# process any stepping instructions\u001b[39;00m\n",
      "\u001b[1;31mKeyboardInterrupt\u001b[0m: "
     ]
    }
   ],
   "source": [
    "num1 = int(input(\"Enter first number\"))\n",
    "num2 = int(input(\"Enter second number\"))\n",
    "num3 = int(input(\"Enter third number\"))\n",
    "arr = [num1,num2,num3]\n",
    "arr.sort()\n",
    " \n",
    "# printing the last element\n",
    "print(\"Largest element is:\", arr[-1])\n"
   ]
  },
  {
   "cell_type": "markdown",
   "id": "f46a0d86",
   "metadata": {},
   "source": [
    "lab3 task ai"
   ]
  },
  {
   "cell_type": "code",
   "execution_count": 3,
   "id": "e70f0049",
   "metadata": {},
   "outputs": [
    {
     "name": "stdout",
     "output_type": "stream",
     "text": [
      "odd\n"
     ]
    }
   ],
   "source": [
    "#task1\n",
    "fil = int(input(\"enter a number\"))\n",
    "eo = \"even\" if fil%2 == 0 else \"odd\"\n",
    "print(eo)"
   ]
  },
  {
   "cell_type": "code",
   "execution_count": 4,
   "id": "aa44f25a",
   "metadata": {},
   "outputs": [
    {
     "name": "stdout",
     "output_type": "stream",
     "text": [
      "B\n"
     ]
    }
   ],
   "source": [
    "#task2\n",
    "marks  = int(input(\"enter yours marks\"))\n",
    "if (marks>=90 and marks<=100):\n",
    "    print (\"A\")\n",
    "elif (marks>=80 and marks<=89):\n",
    "    print(\"B\")\n",
    "elif (marks>=70 and marks<=79):\n",
    "    print(\"c\")\n",
    "elif (marks>=60 and marks<=69):\n",
    "    print(\"d\")\n",
    "else:\n",
    "    print('f')"
   ]
  },
  {
   "cell_type": "code",
   "execution_count": 5,
   "id": "2d32927d",
   "metadata": {},
   "outputs": [
    {
     "name": "stdout",
     "output_type": "stream",
     "text": [
      "7 $\n"
     ]
    }
   ],
   "source": [
    "#task2\n",
    "age  = int(input(\"enter yur age\"))\n",
    "amont = 0\n",
    "if(age <= 12):\n",
    "    amont = 5\n",
    "elif(age >= 13 and age <= 16):\n",
    "    amont = 10\n",
    "elif(age >= 65):\n",
    "    amout = 7\n",
    "print(amout,\"$ is ticket price\")"
   ]
  },
  {
   "cell_type": "code",
   "execution_count": null,
   "id": "704cebd1",
   "metadata": {},
   "outputs": [],
   "source": [
    "i_order =  input(\"what will you order burger or pizza\")\n",
    "price = 0\n",
    "if(i_order.lower() == \"burger\" or i_order.lower() == \"pizza\"):\n",
    "       hello = input(\"do you want extras\")\n",
    "       if(i_order == \"burger\"):\n",
    "            price += 5\n",
    "       elif(i_order == \"pizza\"):\n",
    "            price += 8\n",
    "       hello = input(\"do you want extras\")\n",
    "       if(hello.lower() == \"fries\" ):\n",
    "            price += 2\n",
    "       elif(hello.lower() == \"drink\" ):\n",
    "            price+=1\n",
    "             \n",
    "\n",
    "    \n",
    "\n"
   ]
  },
  {
   "cell_type": "code",
   "execution_count": 7,
   "id": "9cbba436",
   "metadata": {},
   "outputs": [
    {
     "name": "stdout",
     "output_type": "stream",
     "text": [
      "Password strength:  weak\n"
     ]
    }
   ],
   "source": [
    "#task5\n",
    "\n",
    "password = input(\"Enter your password: \")\n",
    "\n",
    "\n",
    "has_length = len(password) >= 8\n",
    "has_uppercase = any(char.isupper() for char in password)\n",
    "has_number = any(char.isdigit() for char in password)\n",
    "has_special_char = any(char in \"!@#$%^&*()-_=+[]{};:'\\\"<>,.?/\" for char in password)\n",
    "strength=\"\"\n",
    "\n",
    "if has_length and has_uppercase and has_number and has_special_char:\n",
    "    strength = \"strong\"\n",
    "elif has_length and has_uppercase and has_number:\n",
    "    strength = \"moderate\"\n",
    "else:\n",
    "    strength = \"weak\"\n",
    "\n",
    "# Display the result to the user\n",
    "print(\"Password strength: \",strength)\n"
   ]
  },
  {
   "cell_type": "code",
   "execution_count": 8,
   "id": "c4a0faaa",
   "metadata": {},
   "outputs": [
    {
     "name": "stdout",
     "output_type": "stream",
     "text": [
      "in range\n"
     ]
    }
   ],
   "source": [
    "#task6\n",
    "numRange = int(input(\"enter your number\"))\n",
    "in_range = \"in range\" if numRange in range(100) else \"out of range\"\n",
    "print(in_range)"
   ]
  },
  {
   "cell_type": "code",
   "execution_count": 13,
   "id": "844353fb",
   "metadata": {},
   "outputs": [
    {
     "name": "stdout",
     "output_type": "stream",
     "text": [
      "The triangle is  scalene  and it is a right triangle\n"
     ]
    }
   ],
   "source": [
    "#task8\n",
    "\n",
    "side1 = float(input(\"Enter the length of the first side: \"))\n",
    "side2 = float(input(\"Enter the length of the second side: \"))\n",
    "side3 = float(input(\"Enter the length of the third side: \"))\n",
    "triangle_type=\"\"\n",
    "right_triangle=\"\"\n",
    "\n",
    "if side1 + side2 > side3 and side1 + side3 > side2 and side2 + side3 > side1:\n",
    "    # Determine the type of triangle\n",
    "    if side1 == side2 == side3:\n",
    "        triangle_type = \"equilateral\"\n",
    "    elif side1 == side2 or side1 == side3 or side2 == side3:\n",
    "        triangle_type = \"isosceles\"\n",
    "    else:\n",
    "        triangle_type = \"scalene\"\n",
    "\n",
    "    \n",
    "    sides = [side1, side2, side3]\n",
    "    sides.sort()\n",
    "    if sides[0] ** 2 + sides[1] ** 2 == sides[2] ** 2:\n",
    "        right_triangle = \" and it is a right triangle\"\n",
    "    else:\n",
    "        right_triangle = \" and it is not a right triangle\"\n",
    "\n",
    "    \n",
    "    print(\"The triangle is \",triangle_type,right_triangle)\n",
    "else:\n",
    "    print(\"Invalid triangle. The sum of the lengths of any two sides must be greater than the length of the remaining side.\")\n"
   ]
  },
  {
   "cell_type": "code",
   "execution_count": 15,
   "id": "7c6e953b",
   "metadata": {},
   "outputs": [
    {
     "name": "stdout",
     "output_type": "stream",
     "text": [
      "converted temperature in celsius is  0.0\n"
     ]
    }
   ],
   "source": [
    "#task7\n",
    "temp = input(\"enter temperature in degree of farenheit\")\n",
    "temp1=\"\"\n",
    "temp2=\"\"\n",
    "if(temp.endswith(\"C\")):\n",
    "    temp1 = int(temp[:-1])\n",
    "    temp2= (temp1*9)/5 + 32\n",
    "    print(\"converted temperature in farenheit is \",temp2)\n",
    "if(temp.endswith(\"F\")):\n",
    "    temp1 = int(temp[:-1])\n",
    "    temp2= ((temp1-32) *5)/9\n",
    "    print(\"converted temperature in celsius is \",temp2)\n",
    "\n",
    "\n"
   ]
  },
  {
   "cell_type": "code",
   "execution_count": 16,
   "id": "db111a86",
   "metadata": {},
   "outputs": [
    {
     "name": "stdout",
     "output_type": "stream",
     "text": [
      "The total ticket price for your group of 4 people is $32.00.\n"
     ]
    }
   ],
   "source": [
    "#task10\n",
    "age = int(input(\"Enter your age: \"))\n",
    "group_size = int(input(\"Enter the number of people in your group: \"))\n",
    "day_of_week = input(\"Enter the day of the week (e.g., 'Tuesday' or 'other'): \").lower()\n",
    "\n",
    "ticket_price = 0\n",
    "total_price = 0\n",
    "\n",
    "if 0 <= age <= 17:\n",
    "    ticket_price = 6\n",
    "elif 18 <= age <= 64:\n",
    "    ticket_price = 12\n",
    "elif age >= 65:\n",
    "    ticket_price = 8\n",
    "\n",
    "if group_size >= 4:\n",
    "    ticket_price -= 2\n",
    "\n",
    "if day_of_week == \"tuesday\":\n",
    "    ticket_price *= 0.8  \n",
    "\n",
    "total_price = ticket_price * group_size\n",
    "\n",
    "\n",
    "print(\"The total ticket price for your group of {group_size} people is ${total_price:.2f}.\".format(group_size = group_size,total_price=total_price))\n"
   ]
  },
  {
   "cell_type": "code",
   "execution_count": null,
   "id": "38b1a6b3",
   "metadata": {},
   "outputs": [],
   "source": [
    "#task9\n",
    "# Initialize variables\n",
    "total_score = 0\n",
    "levels_completed = 0\n",
    "failed_level = False\n",
    "\n",
    "# Loop through each level (assuming 5 levels in this example)\n",
    "for level in range(1, 6):\n",
    "    print(f\"Level {level}:\".format(level))\n",
    "    \n",
    "    # Prompt the user for their performance in the current level\n",
    "    score = int(input(\"Enter your score for this level: \"))\n",
    "    \n",
    "    # Check if the player failed the level\n",
    "    if score < 0:\n",
    "        failed_level = True\n",
    "        break\n",
    "    \n",
    "    # Update total score and increment levels completed\n",
    "    total_score += score\n",
    "    levels_completed += 1\n",
    "\n",
    "# Check if the player completed all levels without failing\n",
    "if not failed_level and levels_completed == 5:\n",
    "    bonus = 10\n",
    "    total_score += bonus\n",
    "    print(f\"Congratulations! You completed all levels without failing and earned a bonus of {bonus} points.\".format(bonus=bonus))\n",
    "else:\n",
    "    print(\"Game over. You either failed a level or did not complete all levels.\")\n",
    "\n",
    "# Display the player's final score\n",
    "print(\"Your final score is {total_score} points.\".format(total_score=total_score))\n"
   ]
  }
 ],
 "metadata": {
  "kernelspec": {
   "display_name": "Python 3 (ipykernel)",
   "language": "python",
   "name": "python3"
  },
  "language_info": {
   "codemirror_mode": {
    "name": "ipython",
    "version": 3
   },
   "file_extension": ".py",
   "mimetype": "text/x-python",
   "name": "python",
   "nbconvert_exporter": "python",
   "pygments_lexer": "ipython3",
   "version": "3.10.5"
  }
 },
 "nbformat": 4,
 "nbformat_minor": 5
}
